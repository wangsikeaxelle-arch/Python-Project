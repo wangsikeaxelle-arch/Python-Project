{
 "cells": [
  {
   "metadata": {},
   "cell_type": "code",
   "outputs": [],
   "execution_count": null,
   "source": [
    "import seaborn as sns\n",
    "import pandas as pd"
   ],
   "id": "976d2fe491a45189"
  }
 ],
 "metadata": {},
 "nbformat": 4,
 "nbformat_minor": 5
}
